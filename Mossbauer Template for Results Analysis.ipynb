{
 "cells": [
  {
   "cell_type": "markdown",
   "metadata": {},
   "source": [
    "# Results Analysis for the M&ouml;ssbauer experiment\n",
    "\n",
    "Use this template to carry out analysis of the spectrum results fro the M&ouml;ssbauer experiment.  You will need to have a spreadsheet file containing the peak positions and number for each spectrum.  You will also need to know the peak-to-peak amplitude of the velocity transducer output for each spectrum.\n",
    "\n",
    "For reference, here are links to recommended Python resources: the [Whirlwind Tour of Python](https://jakevdp.github.io/WhirlwindTourOfPython/) and the [Python Data Science Handbook](https://jakevdp.github.io/PythonDataScienceHandbook/) both by Jake VanderPlas.\n",
    "\n",
    "We will use the [Uncertainties](https://pythonhosted.org/uncertainties/) package in this notebook."
   ]
  },
  {
   "cell_type": "code",
   "execution_count": null,
   "metadata": {},
   "outputs": [],
   "source": [
    "import numpy as np  # import the numpy library functions.\n",
    "import matplotlib.pyplot as plt # plotting functions\n",
    "import uncertainties as unc # Uncertainties package.  Good for simple error propagation\n",
    "import scipy.constants as const\n",
    "import pandas as pd\n",
    "%matplotlib inline"
   ]
  },
  {
   "cell_type": "markdown",
   "metadata": {},
   "source": [
    "### Tasks for this analysis\n",
    "\n",
    "For each spectrum:\n",
    "\n",
    "1. Use the peak-to-peak amplitude from the velocity transducer and to create a calibration function (a line).  You will need the function generator period and MCS dwell time.  The function should return a velocity in mm/s given a channel number.  Negative velocities should indicate negative energy shifts, and positive velocities should indicate positive energy shifts.\n",
    "\n",
    "2. Apply your calibration function to the peak-position data sets for all spectral peaks. Record these results in tables, one table for each sample.  You want an ordered table of absorption peaks in units of mm/s.  Recommended: Make a DataFrame.\n",
    "\n",
    "3. For **enriched iron**: Calculate (1) the isomer shift in mm/s, (2) the magnitide of the internal magnetic field in tesla and (3) the magnitude of the magnetic moment of the excited state in units of the nuclear magneton.  Compare values to expected results.\n",
    "\n",
    "4. For **sodium nitroprusside**: Calculate (1) the isomer shift in mm/s, (2) the quadrupole splitting in mm/s. Then calculate the isomer shift compared to enriched Fe. Compare your value to expected results.\n",
    "\n",
    "5. For **hematite**: Calculate all the folowing in mm/s: (1) the isomer shift relative to enriched Fe, (2) the splitting in the ground state, (3) the splitting in the excited state, (4) the quanrupole energy.  Then calculate the magnetic field magnitude in tesla. \n"
   ]
  },
  {
   "cell_type": "markdown",
   "metadata": {},
   "source": [
    "## Read in your results\n",
    "\n",
    "Recommended: Make a CSV file that has each row be a peak number and has columns for the sample type's peak position and peak-position uncertainty.  Then create a DataFrame with uncertainty objects that combine the position and uncertainty values for each peak."
   ]
  },
  {
   "cell_type": "code",
   "execution_count": null,
   "metadata": {},
   "outputs": [],
   "source": []
  },
  {
   "cell_type": "markdown",
   "metadata": {},
   "source": [
    "## Calibrate the data sets\n",
    "\n",
    "If you have not already converted channel numbers to mm/s values using the velocity transducer conversion factor and the peak-to-peak amplitude of the velocity transducer signal, do this below.\n",
    "\n",
    "1. Create a calibration function to conver channel number to velocity.\n",
    "\n",
    "2. Apply the function in each case below (each should have its own amplitude value from the velocity rransducer)."
   ]
  },
  {
   "cell_type": "code",
   "execution_count": null,
   "metadata": {},
   "outputs": [],
   "source": []
  },
  {
   "cell_type": "markdown",
   "metadata": {},
   "source": [
    "### Enriched iron\n",
    "\n",
    "1. Start with isomer shift $\\delta$. This is just the average of all peak locations. The number would be relative to the source Co-57/Rh\n",
    "\n",
    "2. Next calculate the magnetic field $B$ and excited-state moment $\\mu_e$ from the enriched-foil data.  \n",
    "\n",
    "For the field, we first need the transitions that start from different ground states and end at the same excited states.  There are two pairs of these, one pair ends at -1/2: peaks 2 & 4, and the other ends at +1/2, peaks 1 and 3. The differences between these will give $\\mu_gB$.  From this get $B$ with $\\mu_g = +0.09062\\mu_n$ where $\\mu_n = 3.1525\\times10^{-8}$ eV/T \n",
    "\n",
    "You will need to convert to energy with Doppler formula\n",
    "$$\\frac{\\Delta E}{E} = \\frac{v}{c}$$\n",
    "where $E = 14.412497$ keV.\n",
    "\n",
    "To get the excited state moment, you will need the excited state splitting. These pairs that start at the same ground state but end at different excited states: peaks 0-1, 1-2, 3-4, and 4-5.\n",
    "\n",
    "3. From this calculate the excited state moment $\\mu_e$, and compare to $-0.1549\\mu_n$. "
   ]
  },
  {
   "cell_type": "code",
   "execution_count": null,
   "metadata": {},
   "outputs": [],
   "source": []
  },
  {
   "cell_type": "markdown",
   "metadata": {},
   "source": [
    "### Sodium nitroprusside\n",
    "\n",
    "Need isomer shift relative to Fe foil and quadrupole split, both in mm/s units.\n",
    "\n",
    "Compare results to literature values of $-0.257$ mm/s for the isomer shift, relative to Fe and $1.7048$ mm/s for the quadrupole splitting.  "
   ]
  },
  {
   "cell_type": "code",
   "execution_count": null,
   "metadata": {},
   "outputs": [],
   "source": []
  },
  {
   "cell_type": "markdown",
   "metadata": {},
   "source": [
    "### Hematite (Rust)\n",
    "\n",
    "Analysis proceeds in same manner as for enriched Fe foil. Find $\\delta$, $B$, $\\mu_e$. \n",
    "\n",
    "#### Then find quadrupole splitting\n",
    "\n",
    "From Figure 2 in Kistner & Sunyar (PRL Vol. 4, p.412, 1960) peaks 0-1 are closer together than 1-2 by $2\\varepsilon$ and peaks 4-5 are farther apart than peaks 3-4.  To find $\\varepsilon$ we note that (4-5)-(0-1) should be equal to $4\\varepsilon$.\n",
    "\n",
    "Compare to following results in Kistner & Sunyar:\n",
    "* G.S Splitting = $6.11\\pm0.05$ mm/s\n",
    "* E.S. splitting = $3.45\\pm0.03$ mm/s\n",
    "* Isomer shift relative to Fe = $0.47\\pm0.03$ mm/s\n",
    "* Quadrupole splitting $\\varepsilon = 0.12\\pm0.03$ mm/s"
   ]
  },
  {
   "cell_type": "code",
   "execution_count": null,
   "metadata": {},
   "outputs": [],
   "source": []
  }
 ],
 "metadata": {
  "kernelspec": {
   "display_name": "Python 3",
   "language": "python",
   "name": "python3"
  },
  "language_info": {
   "codemirror_mode": {
    "name": "ipython",
    "version": 3
   },
   "file_extension": ".py",
   "mimetype": "text/x-python",
   "name": "python",
   "nbconvert_exporter": "python",
   "pygments_lexer": "ipython3",
   "version": "3.7.3"
  }
 },
 "nbformat": 4,
 "nbformat_minor": 2
}
